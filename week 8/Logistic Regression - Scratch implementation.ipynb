{
  "cells": [
    {
      "cell_type": "markdown",
      "metadata": {
        "id": "view-in-github",
        "colab_type": "text"
      },
      "source": [
        "<a href=\"https://colab.research.google.com/github/mrudulamadhavan/Mrudula_Scifor/blob/main/week%208/Logistic%20Regression%20-%20Scratch%20implementation.ipynb\" target=\"_parent\"><img src=\"https://colab.research.google.com/assets/colab-badge.svg\" alt=\"Open In Colab\"/></a>"
      ]
    },
    {
      "cell_type": "markdown",
      "metadata": {
        "id": "5YaIfnzJPJrf"
      },
      "source": [
        "# Logistic Regression from scratch"
      ]
    },
    {
      "cell_type": "markdown",
      "metadata": {
        "id": "WsLQQWoxPJri"
      },
      "source": [
        "## Introduction"
      ]
    },
    {
      "cell_type": "markdown",
      "metadata": {
        "id": "RAn9Hy3PPJri"
      },
      "source": [
        "Let's suppose we want to be able to classify some observations in two classes. For example we may want to know if there is a cat in an image or not. Or we may want to know if a person will change insurance in the next six months or not.\n",
        "Basically we will have some features that describe what we are observing (for example the RGB values of the pixel of the image, or the age, address, weight of a person) and we want to be able to predict if the observation is of class one or two (cat or no-cat, change insurance or not). This kind of classification is called binary classification.\n",
        "Logistic regression, in its easier form, is used to perform exactly this.\n",
        "\n",
        "Our goal is to be able to have a model that we can train (let it learn from examples) and that can predict if a certain new observation (its input) is of one of two classes.\n",
        "\n",
        "\n",
        "Our prediction will be a variable $a$ that can only be $0$ or $1$ (we will indicate with $0$ and $1$ the two classes we are trying to predict). In a more mathematical form we will have\n",
        "$$\n",
        "\\text{prediction / estimate}\\ \\ \\rightarrow \\ \\ a\n",
        "\\in \\{0,1\\}\n",
        "$$\n",
        "\n",
        "But what our method will give as output, or as a prediction, will be the probability of $a$ being 1, given the input case $x$. Or in a more mathematical form:\n",
        "\n",
        "$$\n",
        "a = P(y = 1 \\ |\\ x)\n",
        "$$\n",
        "\n",
        "usually we will then define an input observation to be of class $1$ if $a>0.5$ and of classe $0$ if $a <= 0.5$."
      ]
    },
    {
      "cell_type": "markdown",
      "metadata": {
        "id": "njd2kHOqPJrj"
      },
      "source": [
        "Let's assume we have $n_x$ input features (let's assume they are numerical): $x_1, x_2, ..., x_{n_x}$. We will indicate the vector with $x$\n",
        "\n",
        "$$\n",
        "x = (x_1, x_2, ..., x_{n_x})\n",
        "$$\n",
        "\n",
        "In our discussion we will also use the vector $w$ that will contain $n_x$ weigths (also numerical) and a constant $b$ (number) (called bias):\n",
        "\n",
        "$$\n",
        "w = (w_1, w_2, ..., w_{n_x})\n",
        "$$\n",
        "\n",
        "\n",
        "As you may know, what we need to do is to find the ideal weights $w$ and bias $b$ to classify our observations in the best way possible (what exactly means will be discussed later)\n",
        "\n",
        "Let's suppose for a moment that we have already found the ideal $w$ and $b$.\n",
        "To apply the method we will then have to perform the following steps\n",
        "\n",
        "### Step 1\n",
        "\n",
        "We first build a linear combination $z$ of our inputs using $w$ and $b$\n",
        "\n",
        "$$\n",
        "z = w_1 x_1+w_2 x_2+...+w_{n_x} x_{n_x}+b\n",
        "\\tag{1}\n",
        "$$\n",
        "\n",
        "Now it will be very useful to consider our vectors $x$ or $w$ as tensors (or matrices) of dimensions $(n_x, 1)$. This will make the generalisation to many training cases a lot easier, since we will be able to use the formula we will find (and that we will need to vectorize, more on that later) with minor modifications. So we have $x$ and $w$ and both have the dimensions $(n_x,1)$. Equation (1) can then be rewritten as a matrix multiplication.\n",
        "\n",
        "$$\n",
        "z = w^T x + b = w_1 x_1+w_2 x_2+...+w_{n_x} x_{n_x}+b\n",
        "$$"
      ]
    },
    {
      "cell_type": "markdown",
      "metadata": {
        "id": "zRLokyfVPJrk"
      },
      "source": [
        "### Step 2\n",
        "\n",
        "We will then use the sigmoid function applied to $z$\n",
        "\n",
        "$$\n",
        "a = \\sigma (z) = \\sigma (w^T x + b)\n",
        "$$\n",
        "\n",
        "where with $w^T$ we have indicated the transpose of the vector $w$ (as already explained above). Note that this can have values only between 0 and 1, so it behaves as a probability.\n",
        "\n",
        "Now we have assumed to have already found the ideal weights $w$ and bias $b$ so that the $a$ we get from the previous equation is already our prediction. We don't need to do anything else. But the whole idea of Machine Learning is, well, learning. So that means that we need to find the ideal $w$ and $b$ given a set of features (the $x$ in our notation).\n",
        "But how to learn?"
      ]
    },
    {
      "cell_type": "markdown",
      "metadata": {
        "id": "o3nwvaxJPJrk"
      },
      "source": [
        "## Cost Function\n",
        "\n",
        "To find the best parameters $w$ and $b$, we will need to minimize what is called the cost function (CF). A complete discussion about it is outside the scope of this paper. The CF we will use is the cross entropy (to be precise the following equation is for the Loss function, but as will be clear later on, for one observation the Loss and the Cost function are the same).\n",
        "\n",
        "$$\n",
        "\\mathscr{L} (a,y) = -\\left[ y \\log a + (1-y) \\log (1-a) \\right]\n",
        "$$\n",
        "\n",
        "It is useful to draw a computational graph to show the steps necessary to calculate $\\mathscr{L} (a,y)$.\n",
        "Please note that we are still discussing a single training observation. We will generalize the approach in the next section.\n",
        "\n",
        "So to reiterate the idea we will need to find the parameters $w$ and $b$ that minimize $\\mathscr{L} (a,y)$."
      ]
    },
    {
      "cell_type": "markdown",
      "metadata": {
        "id": "ID5L8t-VPJrk"
      },
      "source": [
        "The computational graph to calculate $\\mathscr{L} (a,y)$ is the following."
      ]
    },
    {
      "cell_type": "markdown",
      "metadata": {
        "id": "R5Dd2eP1PJrl"
      },
      "source": [
        "To minimize $\\mathscr{L} (a,y)$ we will use the gradient descent algorithm.\n",
        "\n",
        "So to be able to use the algorithm we will need to have all the partial derivatives of $\\mathscr{L} (a,y)$ with respect to the weights $w_j$ (with $j \\in {1,..., n_x})$ and $b$. So we will need to calculate\n",
        "\n",
        "$$\\displaystyle\n",
        "\\frac{\\partial \\mathscr{L} (a,y)}{\\partial w_j}\n",
        "\\tag{2}\n",
        "$$\n",
        "and\n",
        "$$\\displaystyle\n",
        "\\frac{\\partial \\mathscr{L} (a,y)}{\\partial b}\n",
        "\\tag{3}\n",
        "$$\n",
        "\n",
        "then during the \"descent\", at step $n+1$ we will need to update the parameters from step $n$.\n",
        "Let's indicate the parameter $w_j$ at step $n$ with the notation $w_{j,[n]}$ and $b$ with $b_{[n]}$.\n",
        "We can then use the formulas\n",
        "\n",
        "$$\\displaystyle\n",
        "w_{j, [n+1]} = w_{j,[n]} -\\alpha \\frac{\\partial \\mathscr{L} (a,y)}{\\partial w_j} \\ \\ \\ \\ j \\in \\{1,2, ..., n_x\\}\n",
        "\\tag{3a}\n",
        "$$\n",
        "and\n",
        "$$\\displaystyle\n",
        "b_{[n+1]} = b_{[n]} -\\alpha \\frac{\\partial \\mathscr{L} (a,y)}{\\partial b}\n",
        "\\tag{3b}\n",
        "$$\n",
        "\n",
        "where $\\alpha$ is called the learning rate and is an additional parameter that needs to be optimized. But for the moment we will consider it as a constant.\n"
      ]
    },
    {
      "cell_type": "markdown",
      "metadata": {
        "collapsed": true,
        "id": "sSuP9fpLPJrl"
      },
      "source": [
        "To calculate the derivatives in equation (2) and (3) we can simply apply the chain rule (for those who knows calculus). $\\mathscr{L} (a,y)$ is simply the composition of several function. So we can easily write (try to derive it yourself)\n",
        "\n",
        "$$\\displaystyle\n",
        "\\frac{\\partial \\mathscr{L} (a,y)}{\\partial w_j} = \\frac{\\partial \\mathscr{L} (a,y)}{\\partial a} \\frac{da}{dz}\\frac{\\partial z}{\\partial w_j} \\ \\ \\ \\ j \\in \\{1,2, ..., n_x\\}\n",
        "\\tag{4}\n",
        "$$\n",
        "\n",
        "and\n",
        "\n",
        "$$\\displaystyle\n",
        "\\frac{\\partial \\mathscr{L} (a,y)}{\\partial b} = \\frac{\\partial \\mathscr{L} (a,y)}{\\partial a} \\frac{da}{dz}\\frac{\\partial z}{\\partial b}\n",
        "\\tag{5}\n",
        "$$"
      ]
    },
    {
      "cell_type": "markdown",
      "metadata": {
        "id": "YdozISrEPJrl"
      },
      "source": [
        "Now we can easily calculate all the derivates appearing in (4) and (5)"
      ]
    },
    {
      "cell_type": "markdown",
      "metadata": {
        "id": "OIBSCelPPJrm"
      },
      "source": [
        "$$\\displaystyle\n",
        "\\frac{\\partial \\mathscr{L} (a,y)}{\\partial a} = - \\frac{y}{a}+ \\frac{1-y}{1-a}\n",
        "$$\n",
        "\n",
        "and\n",
        "\n",
        "$$\\displaystyle\n",
        "\\frac{da}{dz} = a(1-a)\n",
        "$$\n",
        "\n",
        "and finally\n",
        "\n",
        "$$\\displaystyle\n",
        "\\frac{\\partial z}{\\partial w_j} = x_j\n",
        "$$\n",
        "\n",
        "$$\\displaystyle\n",
        "\\frac{\\partial z}{\\partial b} = 1\n",
        "$$\n"
      ]
    },
    {
      "cell_type": "markdown",
      "metadata": {
        "id": "c--8npU5PJrm"
      },
      "source": [
        "When we put together those equations with (4) and (5) we get\n",
        "\n",
        "$$\\displaystyle\n",
        "\\frac{\\partial \\mathscr{L} (a,y)}{\\partial w_j} = \\frac{\\partial \\mathscr{L} (a,y)}{\\partial a} \\frac{da}{dz}\\frac{\\partial z}{\\partial w_j} = (a-y) \\ x_j\n",
        "\\tag{6}\n",
        "$$\n",
        "\n",
        "and\n",
        "\n",
        "$$\\displaystyle\n",
        "\\frac{\\partial \\mathscr{L} (a,y)}{\\partial b} = \\frac{\\partial \\mathscr{L} (a,y)}{\\partial a} \\frac{da}{dz}\\frac{\\partial z}{\\partial b} = (a-y)\n",
        "\\tag{7}\n",
        "$$"
      ]
    },
    {
      "cell_type": "markdown",
      "metadata": {
        "id": "2DS1_NVfPJrm"
      },
      "source": [
        "So that (3a) and (3b) can be written easily as\n",
        "\n",
        "$$\\displaystyle\n",
        "w_{j, [n+1]} = w_{j,[n]} -\\alpha \\frac{\\partial \\mathscr{L} (a,y)}{\\partial w_j} = w_{j,n} - \\alpha \\ (a-y) \\ x_j\n",
        "\\tag{8}\n",
        "$$\n",
        "and\n",
        "$$\\displaystyle\n",
        "b_{[n+1]} = b_{[n]} -\\alpha \\frac{\\partial \\mathscr{L} (a,y)}{\\partial b} = b_n - \\alpha \\ (a-y)\n",
        "\\tag{9}\n",
        "$$"
      ]
    },
    {
      "cell_type": "markdown",
      "metadata": {
        "id": "t7Fdc0IOPJrm"
      },
      "source": [
        "Equation (8) and (9) will be the ones we will use in our gradient descent implementation. If you have heard about backpropagation and computational graphs the following graph will get you immediately equations (5) and (6) (at least the first part, to obtain the $(a-y)x_j$ and $(a-y)$ you still need to perform some derivatives). Remember that in backpropagation you go from right to left, instead that from left to right. Each unit is divided in two halfs. The right one is used in the forward propagation and the left one in the backpropagation. This method is widely used in neural networks, and especially in deep learning. Since logistic regression can be obtained by a neural network with a single sigmoid unit we can use this method to get the right equations for the gradient descent.\n",
        "\n"
      ]
    },
    {
      "cell_type": "markdown",
      "metadata": {
        "id": "oq-MrOvOPJrn"
      },
      "source": [
        "## Generalisation to many training cases"
      ]
    },
    {
      "cell_type": "markdown",
      "metadata": {
        "id": "QcT3LJTdPJrn"
      },
      "source": [
        "Now we need to generalise our equation to the case when we have many training cases. This will be easier than expected. First some notation. Let's indicate with $x^{(i)}$ our $i$th training case. Remember $x^{(i)}$ have the dimension $(n_x,1)$. So they are basically \"vertical\" vectors. Or better formulated $x^{(i)}$ is a $\\mathbb{R}^{n_x \\times 1}$ matrix. Let's indicate with $X$ our matrix containing all the features and all the training cases. So $X$ will be a matrix of dimensions $\\mathbb{R}^{n_x \\times m}$ where with $m$ we have indicated the number of training cases that we have. $X$ can be obtained stacking vertically all the $x^{(i)}$."
      ]
    },
    {
      "cell_type": "markdown",
      "metadata": {
        "id": "Nv0RVJwYPJrn"
      },
      "source": [
        "So let's rewrite our equations in matrix form:\n",
        "\n",
        "$$\n",
        "Z = w^T X + B = (\n",
        "\\begin{matrix}\n",
        "w^T x^{(1)}+b & w^T x^{(2)}+b & ... & w^T x^{(m)}+b  \\\\\n",
        "\\end{matrix}\n",
        ")\n",
        "$$\n",
        "\n",
        "where we have indicated with $B$ a matrix of dimension $(1,n_x)$ with all elements equal to $b$. In Python we will not need to define this additional vector since **broadcasting** will take care of it.\n",
        "Note that $Z$ will have the dimensions $(1, m)$, since $w^T$ has dimensions $(1,n_x)$ and $X$ has $(n_x,m)$."
      ]
    },
    {
      "cell_type": "markdown",
      "metadata": {
        "id": "C5E490rKPJrn"
      },
      "source": [
        "Then we will need to calculate $A$. This will be a matrix of dimensions $(1,m)$ that will be\n",
        "\n",
        "$$\n",
        "A = \\sigma (Z) = [\n",
        "\\begin{matrix}\n",
        "\\sigma (w^T x^{(1)}+b) &\\sigma (w^T x^{(2)}+b) & ... & \\sigma (w^T x^{(m)}+b)  \\\\\n",
        "\\end{matrix}\n",
        "]\n",
        "$$"
      ]
    },
    {
      "cell_type": "markdown",
      "metadata": {
        "id": "9Sk0o0t5PJrn"
      },
      "source": [
        "### Cost Function"
      ]
    },
    {
      "cell_type": "markdown",
      "metadata": {
        "id": "IZsNnhgIPJrn"
      },
      "source": [
        "I mentioned before that the Loss function and the cost function for one training case are the same. When we are dealing with many training cases we will define our cost function as the average of our loss function calculated over all training cases as:\n",
        "\n",
        "$$\\displaystyle\n",
        "J(w,b) = \\frac{1}{m} \\sum_{i=1}^{m} \\mathscr{L} (a^{(i)},y^{(i)})\n",
        "$$\n",
        "\n",
        "Now we will need to calculate the derivative of our new cost function to implement the backpropagation algorithm to determine our parameters. This will not be difficult, since the derivative of the sum of functions is the sum of derivatives so we have simply\n",
        "\n",
        "$$\\displaystyle\n",
        "\\frac{\\partial J(w,b)}{\\partial w_j} = \\frac{1}{m} \\sum_{i=1}^{m}\n",
        "\\frac{\\partial J(w,b)}{\\partial a^{(i)}} \\frac{da^{(i)}}{dz^{(i)}}\\frac{\\partial z^{(i)}}{\\partial w_j} = \\frac{1}{m} \\sum_{i=1}^{m}(a^{(i)}-y^{(i)}) \\ x^{(i)}_j\n",
        "\\tag{8}\n",
        "$$\n",
        "\n",
        "and for $b$\n",
        "\n",
        "$$\\displaystyle\n",
        "\\frac{\\partial J(w,b)}{\\partial b} = \\frac{1}{m} \\sum_{i=1}^{m}\n",
        "\\frac{\\partial J(w,b)}{\\partial a^{(i)}} \\frac{da^{(i)}}{dz^{(i)}}\\frac{\\partial z^{(i)}}{\\partial b} = \\frac{1}{m} \\sum_{i=1}^{m}(a^{(i)}-y^{(i)})\n",
        "\\tag{9}\n",
        "$$\n",
        "\n",
        "Now we can define the following matrix\n",
        "$$\\displaystyle\n",
        "A = \\left[\n",
        "\\begin{matrix}\n",
        "a^{(1)}& a^{(2)} & ... & a^{(m)}  \\\\\n",
        "\\end{matrix}\n",
        "\\right] \\ \\ \\ \\in \\mathbb{R}^{1 \\times m}\n",
        "$$\n",
        "\n",
        "and we will have\n",
        "\n",
        "$$\n",
        "A-Y = \\left[\n",
        "\\begin{matrix}\n",
        "a^{(1)}-y^{(1)}& a^{(2)}-y^{(2)} & ... & a^{(m)}-y^{(m)}  \\\\\n",
        "\\end{matrix}\n",
        "\\right] \\ \\ \\ \\in \\mathbb{R}^{1 \\times m}\n",
        "$$"
      ]
    },
    {
      "cell_type": "markdown",
      "metadata": {
        "id": "FfQu1OAePJrn"
      },
      "source": [
        "We first will need to evaluate another matrix (since we have many parameters). So we will need to find (remember that w is not a scalar, and that has dimensions $(n_x,1)$)\n",
        "\n",
        "$$\n",
        "\\nabla_w J(w,b) = \\frac{1}{m} X (A-Y)^T\n",
        "\\tag{10}\n",
        "$$\n",
        "\n",
        "$$\n",
        "\\frac{\\partial J(w,b)}{\\partial b} = \\frac{1}{m} \\sum_{i=1}^{m}(A_i-Y_i)\n",
        "\\tag{11}\n",
        "$$"
      ]
    },
    {
      "cell_type": "markdown",
      "metadata": {
        "id": "AbDhqoCTPJrn"
      },
      "source": [
        "So with the equation (10) and (11) you can update the parameters to implement the gradient descent algorithm. So we can write the value of $w$ at step $n+1$ as\n",
        "\n",
        "$$\n",
        "w_{[n+1]} = w_{[n]}-\\alpha \\frac{1}{m} X (A-Y)^T\n",
        "$$\n",
        "\n",
        "and for $b$\n",
        "\n",
        "$$\n",
        "b_{[n+1]} = b_{[n]}-\\alpha \\frac{1}{m} \\sum_{i=1}^{m}(A_i-Y_i)\n",
        "$$"
      ]
    },
    {
      "cell_type": "markdown",
      "metadata": {
        "id": "AXapeid1PJro"
      },
      "source": [
        "This can be easily implemented in Python giving a general method to evaluate and find the optimal parameters.\n",
        "\n"
      ]
    },
    {
      "cell_type": "markdown",
      "metadata": {
        "id": "sIwf1nFSPJro"
      },
      "source": [
        "# **Implementation**"
      ]
    },
    {
      "cell_type": "code",
      "execution_count": 1,
      "metadata": {
        "vscode": {
          "languageId": "plaintext"
        },
        "id": "Cwk8cqslPJro"
      },
      "outputs": [],
      "source": [
        "# Importing libraries\n",
        "\n",
        "import numpy as np\n",
        "import pandas as pd\n",
        "import matplotlib.pyplot as plt\n",
        "import seaborn as sns\n",
        "sns.set_theme()\n",
        "from numpy import log,dot,exp,shape\n",
        "from sklearn.datasets import make_classification\n",
        "from sklearn.model_selection import train_test_split"
      ]
    },
    {
      "cell_type": "code",
      "execution_count": 2,
      "metadata": {
        "vscode": {
          "languageId": "plaintext"
        },
        "id": "oDju7jM3PJrp"
      },
      "outputs": [],
      "source": [
        "class Logistic_Regression:\n",
        "\n",
        "    def sigmoid(self,z):\n",
        "        sig = 1/(1+exp(-z))\n",
        "        return sig\n",
        "\n",
        "    def initialize(self,X):\n",
        "        weights = np.zeros((shape(X)[1]+1,1))\n",
        "        X = np.c_[np.ones((shape(X)[0],1)),X]\n",
        "        return weights,X\n",
        "\n",
        "    def fit(self,X,y,alpha=0.001,iter=400):\n",
        "        weights,X = self.initialize(X)\n",
        "        def cost(theta):\n",
        "            z = dot(X,theta)\n",
        "            cost0 = y.T.dot(log(self.sigmoid(z)))\n",
        "            cost1 = (1-y).T.dot(log(1-self.sigmoid(z)))\n",
        "            cost = -((cost1 + cost0))/len(y)\n",
        "            return cost\n",
        "        cost_list = np.zeros(iter,)\n",
        "        for i in range(iter):\n",
        "            weights = weights - alpha*dot(X.T,self.sigmoid(dot(X,weights))-np.reshape(y,(len(y),1)))\n",
        "            cost_list[i] = cost(weights)\n",
        "        self.weights = weights\n",
        "        return cost_list\n",
        "\n",
        "    def predict(self,X):\n",
        "        z = dot(self.initialize(X)[1],self.weights)\n",
        "        lis = []\n",
        "        for i in self.sigmoid(z):\n",
        "            if i>0.5:\n",
        "                lis.append(1)\n",
        "            else:\n",
        "                lis.append(0)\n",
        "        return lis\n",
        "\n",
        ""
      ]
    },
    {
      "cell_type": "code",
      "source": [
        "X,y = make_classification(n_features = 4,n_classes=2)\n",
        "X_tr,X_te,y_tr,y_te = train_test_split(X,y,test_size=0.1)"
      ],
      "metadata": {
        "id": "w0Z90xPTC3fN"
      },
      "execution_count": 4,
      "outputs": []
    },
    {
      "cell_type": "code",
      "source": [
        "def standardize(X_tr):\n",
        "    for i in range(shape(X_tr)[1]):\n",
        "        X_tr[:,i] = (X_tr[:,i] - np.mean(X_tr[:,i]))/np.std(X_tr[:,i])"
      ],
      "metadata": {
        "id": "vyqkzEboE0Js"
      },
      "execution_count": 3,
      "outputs": []
    },
    {
      "cell_type": "code",
      "source": [
        "standardize(X_tr)\n",
        "standardize(X_te)\n",
        "obj1 = Logistic_Regression()\n",
        "model= obj1.fit(X_tr,y_tr)\n",
        "y_pred = obj1.predict(X_te)\n",
        "y_train = obj1.predict(X_tr)"
      ],
      "metadata": {
        "colab": {
          "base_uri": "https://localhost:8080/"
        },
        "id": "UKycKbvWBgn3",
        "outputId": "e2c3f245-33d6-4c09-ed00-5f4def01601d"
      },
      "execution_count": 5,
      "outputs": [
        {
          "output_type": "stream",
          "name": "stderr",
          "text": [
            "<ipython-input-2-ad0546b538ea>:23: DeprecationWarning: Conversion of an array with ndim > 0 to a scalar is deprecated, and will error in future. Ensure you extract a single element from your array before performing this operation. (Deprecated NumPy 1.25.)\n",
            "  cost_list[i] = cost(weights)\n"
          ]
        }
      ]
    },
    {
      "cell_type": "code",
      "source": [
        "def score(y,y_hat):\n",
        "    tp,tn,fp,fn = 0,0,0,0\n",
        "    for i in range(len(y)):\n",
        "        if y[i] == 1 and y_hat[i] == 1:\n",
        "            tp += 1\n",
        "        elif y[i] == 1 and y_hat[i] == 0:\n",
        "            fn += 1\n",
        "        elif y[i] == 0 and y_hat[i] == 1:\n",
        "            fp += 1\n",
        "        elif y[i] == 0 and y_hat[i] == 0:\n",
        "            tn += 1\n",
        "    precision = tp/(tp+fp)\n",
        "    recall = tp/(tp+fn)\n",
        "    f1_score = 2*precision*recall/(precision+recall)\n",
        "    return (f1_score,precision,recall)"
      ],
      "metadata": {
        "id": "C-a1c40KBgum"
      },
      "execution_count": 16,
      "outputs": []
    },
    {
      "cell_type": "code",
      "source": [
        "#Let's see the f1-score for training and testing data\n",
        "score_tr = score(y_tr,y_train)\n",
        "score_te = score(y_te,y_pred)\n",
        "print('Train Data')\n",
        "print(' > Precision :',score_tr[1])\n",
        "print(' > Recall :',score_tr[2])\n",
        "print(' > F1 score :',np.round(score_tr[0],4))\n",
        "print('\\nTest Data')\n",
        "print(' > Precision :',score_te[1])\n",
        "print(' > Recall :',score_te[2])\n",
        "print(' > F1 score :',np.round(score_te[0],4))\n"
      ],
      "metadata": {
        "colab": {
          "base_uri": "https://localhost:8080/"
        },
        "id": "NWFkJZ5GBgkn",
        "outputId": "4bd3702f-468e-4b23-db5c-9642fbcb83c6"
      },
      "execution_count": 19,
      "outputs": [
        {
          "output_type": "stream",
          "name": "stdout",
          "text": [
            "Train Data\n",
            " > Precision : 0.9782608695652174\n",
            " > Recall : 1.0\n",
            " > F1 score : 0.989\n",
            "\n",
            "Test Data\n",
            " > Precision : 1.0\n",
            " > Recall : 1.0\n",
            " > F1 score : 1.0\n"
          ]
        }
      ]
    }
  ],
  "metadata": {
    "kernelspec": {
      "display_name": "Python 3",
      "language": "python",
      "name": "python3"
    },
    "language_info": {
      "codemirror_mode": {
        "name": "ipython",
        "version": 3
      },
      "file_extension": ".py",
      "mimetype": "text/x-python",
      "name": "python",
      "nbconvert_exporter": "python",
      "pygments_lexer": "ipython3",
      "version": "3.6.3"
    },
    "colab": {
      "provenance": [],
      "include_colab_link": true
    }
  },
  "nbformat": 4,
  "nbformat_minor": 0
}