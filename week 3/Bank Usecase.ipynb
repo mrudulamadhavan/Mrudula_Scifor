{
  "nbformat": 4,
  "nbformat_minor": 0,
  "metadata": {
    "colab": {
      "provenance": []
    },
    "kernelspec": {
      "name": "python3",
      "display_name": "Python 3"
    },
    "language_info": {
      "name": "python"
    }
  },
  "cells": [
    {
      "cell_type": "markdown",
      "source": [
        "# **Bank Usecase**\n",
        "\n",
        "This Python program demonstrates a simple Bank class with methods for PIN verification (pin_verify), deposit (deposit), withdrawal (withdraw), and balance check (balance_check). The example usage section shows how to create an account, verify the PIN, and perform deposit and withdrawal operations."
      ],
      "metadata": {
        "id": "lWKU1NGes_4R"
      }
    },
    {
      "cell_type": "code",
      "source": [
        "class Bank:\n",
        "    def __init__(self, balance=0, pin=2024):\n",
        "        self.acc_balance = balance\n",
        "        self.atm_pin = pin\n",
        "\n",
        "    def pin_verify(self, confirm_pin):\n",
        "        return self.atm_pin == confirm_pin\n",
        "\n",
        "    def deposit(self):\n",
        "        amount = float(input(\"Enter amount to be deposited: \"))\n",
        "        if amount >= 0:\n",
        "            self.acc_balance += amount\n",
        "            print(\"\\nAmount deposited:\", amount)\n",
        "        else:\n",
        "            print(\"Invalid deposit amount.\")\n",
        "\n",
        "    def withdraw(self):\n",
        "        amount = float(input(\"Enter amount to be withdrawn: \"))\n",
        "        if self.acc_balance >= amount > 0:\n",
        "            self.acc_balance -= amount\n",
        "            print(\"\\nAmount withdrawn:\", amount)\n",
        "        else:\n",
        "            print(\"\\nInsufficient balance\")\n",
        "\n",
        "    def balance_check(self):\n",
        "        print(\"\\nAvailable Balance =\", self.acc_balance)\n",
        "\n",
        "\n",
        "# creating an object of class\n",
        "transc = Bank(balance=1000, pin=2024)\n",
        "\n",
        "# Calling functions with that class object\n",
        "confirm_pin = int(input(\"Enter your PIN: \"))\n",
        "if transc.pin_verify(confirm_pin):\n",
        "    print(\"PIN verified successfully.\")\n",
        "\n",
        "    print(\"\\nEnter 1 for Balance Inquiry\")\n",
        "    print(\"Enter 2 for Money Withdrawal\")\n",
        "    print(\"Enter 3 for Money Deposit\")\n",
        "\n",
        "    option = int(input(\"Select an option (1/2/3): \"))\n",
        "\n",
        "    if option == 1:\n",
        "        transc.balance_check()\n",
        "    elif option == 2:\n",
        "        transc.withdraw()\n",
        "        transc.balance_check()\n",
        "    elif option == 3:\n",
        "        transc.deposit()\n",
        "        transc.balance_check()\n",
        "    else:\n",
        "        print(\"Invalid Option\")\n",
        "else:\n",
        "    print(\"Invalid PIN\")\n"
      ],
      "metadata": {
        "colab": {
          "base_uri": "https://localhost:8080/"
        },
        "id": "JZXDGll1jetz",
        "outputId": "23cc6794-c98f-4f74-c719-fa0c1a5fb763"
      },
      "execution_count": 30,
      "outputs": [
        {
          "output_type": "stream",
          "name": "stdout",
          "text": [
            "Enter your PIN: 2024\n",
            "PIN verified successfully.\n",
            "\n",
            "Enter 1 for Balance Inquiry\n",
            "Enter 2 for Money Withdrawal\n",
            "Enter 3 for Money Deposit\n",
            "Select an option (1/2/3): 1\n",
            "\n",
            "Available Balance = 1000\n"
          ]
        }
      ]
    },
    {
      "cell_type": "code",
      "source": [],
      "metadata": {
        "id": "nLlDuYzEjexO"
      },
      "execution_count": null,
      "outputs": []
    }
  ]
}