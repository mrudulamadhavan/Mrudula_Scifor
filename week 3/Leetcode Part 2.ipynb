{
  "nbformat": 4,
  "nbformat_minor": 0,
  "metadata": {
    "colab": {
      "provenance": []
    },
    "kernelspec": {
      "name": "python3",
      "display_name": "Python 3"
    },
    "language_info": {
      "name": "python"
    }
  },
  "cells": [
    {
      "cell_type": "markdown",
      "source": [
        "# **Leetcode Problem Solving - Part 2**\n",
        "\n",
        "## **Part C : Simulation**"
      ],
      "metadata": {
        "id": "BKmJf1luboqn"
      }
    },
    {
      "cell_type": "markdown",
      "source": [
        "### **Q)682. Baseball Game**\n",
        "\n",
        "You are keeping the scores for a baseball game with strange rules. At the beginning of the game, you start with an empty record.\n",
        "\n",
        "You are given a list of strings operations, where operations[i] is the ith operation you must apply to the record and is one of the following:\n",
        "\n",
        "* An integer x.\n",
        "> * Record a new score of x.\n",
        "* '+'.\n",
        "> * Record a new score that is the sum of the previous two scores.\n",
        "* 'D'.\n",
        "> * Record a new score that is the double of the previous score.\n",
        "* 'C'.\n",
        "> * Invalidate the previous score, removing it from the record.\n",
        "\n",
        "Return the sum of all the scores on the record after applying all the operations.\n",
        "\n",
        "The test cases are generated such that the answer and all intermediate calculations fit in a 32-bit integer and that all operations are valid.\n",
        "\n",
        "![image.png](data:image/png;base64,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)"
      ],
      "metadata": {
        "id": "RM1fBhleb-dR"
      }
    },
    {
      "cell_type": "code",
      "execution_count": 8,
      "metadata": {
        "id": "mJSN9qBDaQkZ"
      },
      "outputs": [],
      "source": [
        "class Solution:\n",
        "    def calPoints(self, ops: list[str]) -> int:\n",
        "        i = j = 0\n",
        "        while j < len(ops):\n",
        "            if ops[j] == \"C\":\n",
        "                i -= 2\n",
        "            elif ops[j] == \"D\":\n",
        "                ops[i] = int(ops[i-1])*2\n",
        "            elif ops[j] == \"+\":\n",
        "                ops[i] = int(ops[i-1]) + int(ops[i-2])\n",
        "            else:\n",
        "                ops[i] = int(ops[j])\n",
        "            i += 1\n",
        "            j += 1\n",
        "        return sum(ops[:i])"
      ]
    },
    {
      "cell_type": "markdown",
      "source": [
        "### **657. Robot Return to Origin**\n",
        "\n",
        "There is a robot starting at the position (0, 0), the origin, on a 2D plane. Given a sequence of its moves, judge if this robot ends up at (0, 0) after it completes its moves.\n",
        "\n",
        "You are given a string moves that represents the move sequence of the robot where moves[i] represents its ith move. Valid moves are 'R' (right), 'L' (left), 'U' (up), and 'D' (down).\n",
        "\n",
        "Return true if the robot returns to the origin after it finishes all of its moves, or false otherwise.\n",
        "\n",
        "**Note:** The way that the robot is \"facing\" is irrelevant. 'R' will always make the robot move to the right once, 'L' will always make it move left, etc. Also, assume that the magnitude of the robot's movement is the same for each move.\n",
        "\n",
        "![image.png](data:image/png;base64,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)"
      ],
      "metadata": {
        "id": "1-gbnGi-glIr"
      }
    },
    {
      "cell_type": "code",
      "source": [
        "class Solution:\n",
        "    def judgeCircle(self, moves: str) -> bool:\n",
        "\n",
        "        return moves.count('R') == moves.count('L') and moves.count('U') == moves.count('D')"
      ],
      "metadata": {
        "id": "uEoD2kG3gkc7"
      },
      "execution_count": 9,
      "outputs": []
    },
    {
      "cell_type": "markdown",
      "source": [
        "### **1275. Find Winner on a Tic Tac Toe Game**\n",
        "\n",
        "Tic-tac-toe is played by two players A and B on a 3 x 3 grid. The rules of Tic-Tac-Toe are:\n",
        "\n",
        "* Players take turns placing characters into empty squares ' '.\n",
        "* The first player A always places 'X' characters, while the second player B always places 'O' characters.\n",
        "* 'X' and 'O' characters are always placed into empty squares, never on filled ones.\n",
        "* The game ends when there are three of the same (non-empty) character filling any row, column, or diagonal.\n",
        "* The game also ends if all squares are non-empty.\n",
        "* No more moves can be played if the game is over.\n",
        "\n",
        "Given a 2D integer array moves where moves[i] = [rowi, coli] indicates that the ith move will be played on grid[rowi][coli]. return the winner of the game if it exists (A or B). In case the game ends in a draw return \"Draw\". If there are still movements to play return \"Pending\".\n",
        "\n",
        "You can assume that moves is valid (i.e., it follows the rules of Tic-Tac-Toe), the grid is initially empty, and A will play first.\n",
        "\n",
        "![image.png](data:image/png;base64,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)"
      ],
      "metadata": {
        "id": "MS2qRdP-gkBC"
      }
    },
    {
      "cell_type": "code",
      "source": [
        "class Solution:\n",
        "    def tictactoe(self, moves: list[list[int]]) -> str:\n",
        "        Row,Col=[0,0,0],[0,0,0]\n",
        "        Diag1,Diag2 = 0,0\n",
        "        i=0\n",
        "        while i<len(moves):\n",
        "            if i%2==0:\n",
        "                mark=-1\n",
        "            else:\n",
        "                mark=1\n",
        "            Col[moves[i][0]]+=mark\n",
        "            Row[moves[i][1]]+=mark\n",
        "            if moves[i] in ([0,0],[1,1],[2,2]):\n",
        "                Diag1+=mark\n",
        "            if moves[i] in ([0,2],[1,1],[2,0]):\n",
        "                Diag2+=mark\n",
        "            #print (H,V,D1,D2,moves[i])\n",
        "            if 3 in Row or 3 in Col or Diag1==3 or Diag2==3:\n",
        "                return 'B'\n",
        "            if -3 in Row or -3 in Col or Diag1==-3 or Diag2==-3:\n",
        "                return 'A'\n",
        "            i+=1\n",
        "        if len(moves)==9:\n",
        "                return 'Draw'\n",
        "        else:\n",
        "                return 'Pending'\n",
        "\n",
        ""
      ],
      "metadata": {
        "id": "7ydHea3_i48i"
      },
      "execution_count": 10,
      "outputs": []
    },
    {
      "cell_type": "markdown",
      "source": [
        "### **1041. Robot Bounded In Circle**\n",
        "\n",
        "On an infinite plane, a robot initially stands at (0, 0) and faces north. Note that:\n",
        "\n",
        "* The north direction is the positive direction of the y-axis.\n",
        "* The south direction is the negative direction of the y-axis.\n",
        "* The east direction is the positive direction of the x-axis.\n",
        "* The west direction is the negative direction of the x-axis.\n",
        "\n",
        "The robot can receive one of three instructions:\n",
        "\n",
        "* \"G\": go straight 1 unit.\n",
        "* \"L\": turn 90 degrees to the left (i.e., anti-clockwise direction).\n",
        "* \"R\": turn 90 degrees to the right (i.e., clockwise direction).\n",
        "\n",
        "The robot performs the instructions given in order, and repeats them forever.\n",
        "\n",
        "Return True if and only if there exists a circle in the plane such that the robot never leaves the circle.\n",
        "\n",
        "![image.png](data:image/png;base64,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)\n",
        "\n"
      ],
      "metadata": {
        "id": "Ox-MJBQcmhdA"
      }
    },
    {
      "cell_type": "code",
      "source": [
        "class Solution:\n",
        "  def isRobotBounded(self, instructions: str) -> bool:\n",
        "        x, y = 0, 0\n",
        "        dx, dy = 0, 1\n",
        "        for instruction in instructions:\n",
        "            if instruction == 'L':\n",
        "                dx, dy = -dy, dx\n",
        "            elif instruction == 'R':\n",
        "                dx, dy = dy, -dx\n",
        "            elif instruction == 'G':\n",
        "                x += dx\n",
        "                y += dy\n",
        "\n",
        "        return (dx, dy) != (0, 1) or (x, y) == (0, 0)"
      ],
      "metadata": {
        "id": "HDMBs9oNmiDi"
      },
      "execution_count": 11,
      "outputs": []
    },
    {
      "cell_type": "markdown",
      "source": [
        "--------------------------------------------------------------------------------\n",
        "-------------------------------------------------------------------------------"
      ],
      "metadata": {
        "id": "s2pXrMtV2Ylx"
      }
    },
    {
      "cell_type": "markdown",
      "source": [
        "## **Part D: Matrix**\n"
      ],
      "metadata": {
        "id": "Il7NtCb_qrIB"
      }
    },
    {
      "cell_type": "markdown",
      "source": [
        "### **1672. Richest Customer Wealth**\n",
        "\n",
        "You are given an m x n integer grid accounts where accounts[i][j] is the amount of money the i​​​​​​​​​​​th​​​​ customer has in the j​​​​​​​​​​​th​​​​ bank. Return the wealth that the richest customer has.\n",
        "\n",
        "A customer's wealth is the amount of money they have in all their bank accounts. The richest customer is the customer that has the maximum wealth.\n",
        "\n",
        "![image.png](data:image/png;base64,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)"
      ],
      "metadata": {
        "id": "TTPw5jUaq_Np"
      }
    },
    {
      "cell_type": "code",
      "source": [
        "class Solution:\n",
        "    def maximumWealth(self, accounts: list[list[int]]) -> int:\n",
        "        total =[]\n",
        "        for ac in accounts:\n",
        "            total.append(sum(ac))\n",
        "        return max(total)\n"
      ],
      "metadata": {
        "id": "ez2xOlSgrJf7"
      },
      "execution_count": 12,
      "outputs": []
    },
    {
      "cell_type": "markdown",
      "source": [
        "### **1572. Matrix Diagonal Sum**\n",
        "\n",
        "Given a square matrix mat, return the sum of the matrix diagonals.\n",
        "\n",
        "Only include the sum of all the elements on the primary diagonal and all the elements on the secondary diagonal that are not part of the primary diagonal.\n",
        "\n",
        "![image.png](data:image/png;base64,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)"
      ],
      "metadata": {
        "id": "kJitjdGDs8-x"
      }
    },
    {
      "cell_type": "code",
      "source": [
        "class Solution:\n",
        "    def diagonalSum(self, mat: list[list[int]]) -> int:\n",
        "        sum=0\n",
        "        for i in range(len(mat)):\n",
        "            for j in range(len(mat[i])):\n",
        "                if i == j or i+j == len(mat[i])-1:\n",
        "                    sum += mat[i][j]\n",
        "        return sum\n",
        ""
      ],
      "metadata": {
        "id": "fwVvmUz4tRRg"
      },
      "execution_count": 13,
      "outputs": []
    },
    {
      "cell_type": "markdown",
      "source": [
        "### **54. Spiral Matrix**\n",
        "\n",
        "Given an m x n matrix, return all elements of the matrix in spiral order.\n",
        "\n",
        "![image.png](data:image/png;base64,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)"
      ],
      "metadata": {
        "id": "P4HOK-Zzvoen"
      }
    },
    {
      "cell_type": "code",
      "source": [
        "class Solution:\n",
        "    def spiralOrder(self, matrix: list[list[int]]) -> list[int]:\n",
        "        res = []\n",
        "        left, right = 0, len(matrix[0])\n",
        "        top, bottom = 0, len(matrix)\n",
        "\n",
        "        while left < right and top < bottom:\n",
        "            # top row\n",
        "            for i in range(left, right):\n",
        "                res.append(matrix[top][i])\n",
        "            top += 1\n",
        "            # right column\n",
        "            for i in range(top, bottom):\n",
        "                res.append(matrix[i][right - 1])\n",
        "            right -= 1\n",
        "            if not (left < right and top < bottom):\n",
        "                break\n",
        "            # bottom row\n",
        "            for i in range(right - 1, left - 1, -1):\n",
        "                res.append(matrix[bottom - 1][i])\n",
        "            bottom -= 1\n",
        "            # left column\n",
        "            for i in range(bottom - 1, top - 1, -1):\n",
        "                res.append(matrix[i][left])\n",
        "            left += 1\n",
        "\n",
        "        return res"
      ],
      "metadata": {
        "id": "lOtbSjqPvp53"
      },
      "execution_count": 14,
      "outputs": []
    },
    {
      "cell_type": "markdown",
      "source": [
        "### **73. Set Matrix Zeroes**\n",
        "\n",
        "Given an m x n integer matrix matrix, if an element is 0, set its entire row and column to 0's.\n",
        "\n",
        "You must do it in place.\n"
      ],
      "metadata": {
        "id": "_TeUJPn4xmek"
      }
    },
    {
      "cell_type": "code",
      "source": [
        "class Solution:\n",
        "    def setZeroes(self, matrix: list[list[int]]) -> None:\n",
        "        # O(1)\n",
        "        ROWS, COLS = len(matrix), len(matrix[0])\n",
        "        row_zero = False\n",
        "\n",
        "        # determine which rows/cols need to be zero\n",
        "        for r in range(len(matrix)):\n",
        "            for c in range(len(matrix[0])):\n",
        "                if matrix[r][c] == 0:\n",
        "                    matrix[0][c] = 0\n",
        "                    if r > 0:\n",
        "                        matrix[r][0] = 0\n",
        "                    else:\n",
        "                        row_zero = True\n",
        "\n",
        "        for r in range(1, len(matrix)):\n",
        "            for c in range(1, len(matrix[0])):\n",
        "                if matrix[0][c] == 0 or matrix[r][0] == 0:\n",
        "                    matrix[r][c] = 0\n",
        "\n",
        "        if matrix[0][0] == 0:\n",
        "            for r in range(len(matrix)):\n",
        "                matrix[r][0] = 0\n",
        "\n",
        "        if row_zero == True :\n",
        "            for c in range(len(matrix[0])):\n",
        "                matrix[0][c] = 0"
      ],
      "metadata": {
        "id": "gOzhDdDdxnPT"
      },
      "execution_count": 15,
      "outputs": []
    },
    {
      "cell_type": "markdown",
      "source": [
        "------------------------------------------------------------------------------\n",
        "--------------------------------------------------------------------------------"
      ],
      "metadata": {
        "id": "0QhxbgUo2M1y"
      }
    },
    {
      "cell_type": "markdown",
      "source": [
        "## **Part E : Math**"
      ],
      "metadata": {
        "id": "hVJXqTRJ2H-O"
      }
    },
    {
      "cell_type": "markdown",
      "source": [
        "### **1523. Count Odd Numbers in an Interval Range**\n",
        "\n",
        "Given two non-negative integers low and high. Return the count of odd numbers between low and high (inclusive).\n",
        "\n",
        "![image.png](data:image/png;base64,iVBORw0KGgoAAAANSUhEUgAAAUwAAABxCAYAAAC+/ZqYAAAAAXNSR0IArs4c6QAAAARnQU1BAACxjwv8YQUAAAAJcEhZcwAAFiUAABYlAUlSJPAAAAbHSURBVHhe7d1Ldts2FMZx+NnYrptJswIPtBfPvQA32/DQ20i9AK9IA68gmaSu7dSv1FfhbWEEoC4foAHp/zuHRxQJggBJfIeMHGnj+wsHAFhqs3kFACxBYAKAEYEJAEYEJgAYEZgAYERgAoARgQkARgQmABgRmABgRGACgBGBCQBGBCYAGBGYAGBEYAKAEYEJAEYEJgAYEZgAYERgAoARgQkARvymz8Rms1kz59x8Pm/mANRg0sD0w8JXWnBoO3O0a8zAzNlOAD+b5JFcBnYqLEtDOwGkZA/McGDL3ZA/rZt17jtQu+yP5H5gdgmJ2B1UuH1Yd9dtVGpbFa6PvVdhPW3713VtdatY2VBbmdS+ANhlvcPsMzhlm1QopJaLtnXKUsaiS/u67nNoG8fqI4CfFf1nRRKyYdC2BUKX8mHZ2LaxZcvoNv52XUMstl+tI7YutkyklgPop6jA9IPFH+iWQd+1vOobKLKdTqpvXb6x6xNhnToB6KboO8ycJJx16ioVNn6dfeodW0ltAVbBWgVmW9ANVUoo5ewjsO4mC8ySAkWnXHLXv8wUfQTWUdbADAdsLDT9ZX55f3mqTFelhHZOy/oo63UC0E32O8xYaFoHraVMV9Z9i77777tdX+H+9P2UbQDWwSSP5F3uCqVsrHxq+VBhvX33EW6Xo62+LvVL2dztAdYB31YEAEZr9Sk5AAxBYAKAEYEJAEYEJgAYEZgAYERgAoARgQkARgQmABgRmABgRGACgBGBCQBGBCYAGBGYAGBEYAKAEYEJAEYEJgAYEZgAYERgAoARgQkARgQmABgRmABgRGACgBGBCQBGBCYAGBGYAGBEYAKAEYEJAEYEJgAYEZgAYERgAoDRxvcXzXxVHh4e3Ldv/yxen56emqUASre1teV2dnbcu3e/LF5rUmVg3t7evkx3bnd3121vb7vNTW6UgVo8Pz+7x8dHd39/7/b3916m/WZN+aoLTAlLubPc29tzGxsbzVIAtZHoubu7W9xp1hKaVd2ayeO33FkSlkD9ZAzLWJYxLWO7BlUFptxZymM4YQmsBhnLMqZlbNegujtM+TdLAKtDxjR3mBnIp+F8wAOsFhnTtfylS1Uf+nz+/MUdHh427177+PGPZu6HT5/+bObqsQp9GJsckz7Hoe92auj2pfGvrbZ+dbkGtewY9V1fX7sPH35v3pVrJW7X/BOnJyQ8UTXQ9qcuKqArGQfWsdBlHPnL28r417RMqbK1yB6Yl5eX7vj42M1ms8WrvM9BTzAguB7+p2FlYSmnoddWVsMyJMtqDs2sgSnheHZ25q6urhbv5VXejxmabQd/7BNT0omWtviTz9JOSxmrMetK0X76U2jZel+sbGybsFyszFA56lTWoGxrg79O57Vefc3Zh5JkDcyLi4tm7rXU8jGMfeKkPp1KIW2RC9Wfpm7flMcl1l9d7gvXp8Tqi/XDut8+pA6dStTWLj0OaszjUrqsH/rIY3jKfD5v5uxiH/roSZKTlprvwz/5sTqWXRx996uk/tR+U3X766zlupJtVap9bbrut28/Uuus2/Td7zKyrUq1r03f/Qqtu22/si4134Vsl9omto4PfV4cHR01c6+llo+h64kNycn0L5JUfbouNZXE71Nfq3hcplTb8Ru6L9k+ds3FltUka2Cenp42c6+llg9R+4kASjDmONLQ9KcpQz+HrIF5cnLizs/P/7ujlFd5L8tzGONkSB1aj57kGP8iiE2rhuMyTE3HT9s5Bu233/+arcQfruuF5J8QWTbGCQov0qlOeqr9bf0K12nbdVn4fgitS41RZ0yX/vpS66zb9N2vldThG1qfhe6zrV/CXz9GX32p+vg3zDcUXoxDyMnVqQTSjlj/xr6wlyntuFi1Hb8p1XD8hh6TcPupj3EO/NfIgvl9Cvtj6a+W0XXh+xpIm1PtDdeFx8QX1hGWlfV+fV32W7rUcYn1IXZchrDWV8sd5soEJjBUbUG4Sngkz0B+C0S+3h4YInbHRVi+HRnTMrZrUNUd5vX134uvtZcvHAWGGPvRE/3Jb/vIFwkfHv7aLClXVYEpXzL69etf7uDggG9dB1aAxM/NzY17//63Kn5BsqpHcjmg8itz8sNJFeU8gAgZwzKWZUzX8nO7Vd1hKn5mF6gXP7P7BuTxXH44SV5r+Xp7AD8+vJU7Svl53VruLFW1gQkAU+NZFgCMCEwAMCIwAcCIwAQAIwITAIwITAAwIjABwIjABAAjAhMAjAhMADAiMAHAiMAEACMCEwCMCEwAMCIwAcCIwAQAIwITAIwITAAwIjABwIjABAAjAhMATJz7Fxt7SU7XQWnhAAAAAElFTkSuQmCC)"
      ],
      "metadata": {
        "id": "pbm8yVW21e7I"
      }
    },
    {
      "cell_type": "code",
      "source": [
        "class Solution:\n",
        "    def countOdds(self, low: int, high: int) -> int:\n",
        "        if low%2!=0 or high%2!=0:\n",
        "            return (high-low)//2 +1\n",
        "        return (high-low)//2"
      ],
      "metadata": {
        "id": "GGcKuguF1t7l"
      },
      "execution_count": 16,
      "outputs": []
    },
    {
      "cell_type": "markdown",
      "source": [
        "### **1491. Average Salary Excluding the Minimum and Maximum Salary**\n",
        "\n",
        "You are given an array of unique integers salary where salary[i] is the salary of the ith employee.\n",
        "\n",
        "Return the average salary of employees excluding the minimum and maximum salary. Answers within 10-5 of the actual answer will be accepted.\n",
        "\n",
        "![image.png](data:image/png;base64,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)"
      ],
      "metadata": {
        "id": "XVQB8aM_2eck"
      }
    },
    {
      "cell_type": "code",
      "source": [
        "class Solution:\n",
        "  def average(self, salary: list[int]) -> float:\n",
        "    return (sum(salary) - max(salary) - min(salary)) / (len(salary) - 2)"
      ],
      "metadata": {
        "id": "oZaVS_bM2wSB"
      },
      "execution_count": null,
      "outputs": []
    },
    {
      "cell_type": "markdown",
      "source": [
        "### **860. Lemonade Change**\n",
        "\n",
        "At a lemonade stand, each lemonade costs `$5`. Customers are standing in a queue to buy from you and order one at a time (in the order specified by bills). Each customer will only buy one lemonade and pay with either a `$5, $10, or $20` bill. You must provide the correct change to each customer so that the net transaction is that the customer pays `$5`.\n",
        "\n",
        "Note that you do not have any change in hand at first.\n",
        "\n",
        "Given an integer array bills where bills[i] is the bill the ith customer pays, return true if you can provide every customer with the correct change, or false otherwise.\n",
        "\n",
        "![image.png](data:image/png;base64,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)\n"
      ],
      "metadata": {
        "id": "gmVJVNKn2w21"
      }
    },
    {
      "cell_type": "code",
      "source": [
        "class Solution:\n",
        "  def lemonadeChange(self, bills: list[int]) -> bool:\n",
        "    cnt_5 , cnt_10 = 0,0\n",
        "    for bill in bills:\n",
        "      if bill == 5:\n",
        "        cnt_5 += 1\n",
        "      elif bill == 10:\n",
        "        cnt_5 -= 1\n",
        "        cnt_10 += 1\n",
        "      else:  # bill == 20\n",
        "        if cnt_10 > 0:\n",
        "            cnt_10 -= 1\n",
        "            cnt_5 -= 1\n",
        "        else:\n",
        "            cnt_5 -= 3\n",
        "\n",
        "      if cnt_5 < 0:\n",
        "        return False\n",
        "    return True"
      ],
      "metadata": {
        "id": "YXF_jzRq3mWT"
      },
      "execution_count": 17,
      "outputs": []
    },
    {
      "cell_type": "markdown",
      "source": [
        "### **976. Largest Perimeter Triangle**\n",
        "\n",
        "Given an integer array nums, return the largest perimeter of a triangle with a non-zero area, formed from three of these lengths. If it is impossible to form any triangle of a non-zero area, return 0.\n",
        "\n",
        "![image.png](data:image/png;base64,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)"
      ],
      "metadata": {
        "id": "mO9Dh71e98FJ"
      }
    },
    {
      "cell_type": "code",
      "source": [
        "class Solution:\n",
        "  def largestPerimeter(self, nums: list[int]) -> int:\n",
        "        nums.sort(reverse=True)\n",
        "\n",
        "        for i in range(len(nums)-2):\n",
        "            side_a = nums[i]\n",
        "            side_b = nums[i+1]\n",
        "            side_c = nums[i+2]\n",
        "            if side_a < side_b + side_c:\n",
        "                return side_a + side_b + side_c\n",
        "\n",
        "        return 0"
      ],
      "metadata": {
        "id": "hlioMZKv2xXG"
      },
      "execution_count": 18,
      "outputs": []
    },
    {
      "cell_type": "markdown",
      "source": [
        "### **1232. Check If It Is a Straight Line**\n",
        "\n",
        "You are given an array coordinates, coordinates[i] = [x, y], where [x, y] represents the coordinate of a point. Check if these points make a straight line in the XY plane.\n",
        "\n",
        "![image.png](data:image/png;base64,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)"
      ],
      "metadata": {
        "id": "FKsOQbysAdL7"
      }
    },
    {
      "cell_type": "code",
      "source": [
        "class Solution:\n",
        "    def checkStraightLine(self, coordinates: list[list[int]]) -> bool:\n",
        "        x1, y1 = coordinates[0]\n",
        "        x2, y2 = coordinates[1]\n",
        "\n",
        "        for x, y in coordinates[2:]:\n",
        "            if (y2 - y1) * (x - x1) != (x2 - x1) * (y - y1):\n",
        "                return False\n",
        "\n",
        "        return True"
      ],
      "metadata": {
        "id": "swwWBGoPA-FJ"
      },
      "execution_count": null,
      "outputs": []
    },
    {
      "cell_type": "markdown",
      "source": [
        "### **67. Add Binary**\n",
        "\n",
        "Given two binary strings a and b, return their sum as a binary string.\n",
        "\n",
        "![image.png](data:image/png;base64,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)"
      ],
      "metadata": {
        "id": "t9dttuZQCGBn"
      }
    },
    {
      "cell_type": "code",
      "source": [
        "class Solution:\n",
        "    def addBinary(self, a: str, b: str) -> str:\n",
        "        return bin(int(a,2)+int(b,2))[2:]"
      ],
      "metadata": {
        "id": "at4_ml-sCuNo"
      },
      "execution_count": 19,
      "outputs": []
    },
    {
      "cell_type": "markdown",
      "source": [
        "### **43. Multiply Strings**\n",
        "\n",
        "Given two non-negative integers num1 and num2 represented as strings, return the product of num1 and num2, also represented as a string.\n",
        "\n",
        "**Note:** You must not use any built-in BigInteger library or convert the inputs to integer directly."
      ],
      "metadata": {
        "id": "VUvdzh-gDffg"
      }
    },
    {
      "cell_type": "code",
      "source": [
        "class Solution:\n",
        "    def multiply(self, num1: str, num2: str) -> str:\n",
        "\n",
        "        if len(num1) == 0 or len(num2) == 0:\n",
        "            return '0'\n",
        "        if num1[0] == '0' or num2[0] == '0':\n",
        "            return '0'\n",
        "\n",
        "        res1, res2 = 0, 0\n",
        "        for d in num1:\n",
        "            res1 = res1 * 10 + (ord(d) - ord('0'))\n",
        "        for d in num2:\n",
        "            res2 = res2 * 10 + (ord(d) - ord('0'))\n",
        "\n",
        "\n",
        "        res = res1 * res2\n",
        "\n",
        "        ans = ''\n",
        "        while res:\n",
        "            ans = ans +(chr(ord('0') + res % 10))\n",
        "            res //= 10\n",
        "        return ans[::-1]"
      ],
      "metadata": {
        "id": "y3ZZVjZjGeMO"
      },
      "execution_count": 20,
      "outputs": []
    },
    {
      "cell_type": "markdown",
      "source": [
        "### **50. Pow(x, n)**\n",
        "\n",
        "Implement pow(x, n), which calculates x raised to the power n (i.e.,x^n).\n",
        "\n",
        "![image.png](data:image/png;base64,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)"
      ],
      "metadata": {
        "id": "-fSk3NO3IBfW"
      }
    },
    {
      "cell_type": "code",
      "source": [
        "class Solution:\n",
        "    def myPow(self, x: float, n: int) -> float:\n",
        "        if n == 0 or x == 1.0:\n",
        "            return 1.0\n",
        "        if x == 0:\n",
        "            if n < 0:\n",
        "                return float('inf')\n",
        "            else:\n",
        "                return 0.0\n",
        "\n",
        "        if n < 0:\n",
        "            x, n = 1/x, -n\n",
        "\n",
        "        res, num, power = 1.0, x, n\n",
        "        while power != 1:\n",
        "            if power % 2 == 0:\n",
        "                num = num * num\n",
        "                power /= 2\n",
        "            else:\n",
        "                res *= num\n",
        "                power -= 1\n",
        "\n",
        "        return res * num\n",
        ""
      ],
      "metadata": {
        "id": "d3pQO9_uIB_h"
      },
      "execution_count": 21,
      "outputs": []
    },
    {
      "cell_type": "markdown",
      "source": [
        "-------------------------------------------------------------------------------\n",
        "--------------------------------------------------------------------------------\n"
      ],
      "metadata": {
        "id": "EK-JLlXkJsck"
      }
    },
    {
      "cell_type": "markdown",
      "source": [
        "**Submitted by : Mrudula A P**"
      ],
      "metadata": {
        "id": "KkaybunAJv0M"
      }
    }
  ]
}