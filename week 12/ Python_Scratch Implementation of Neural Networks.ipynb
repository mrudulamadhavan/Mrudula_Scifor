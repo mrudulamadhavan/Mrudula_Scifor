{
  "nbformat": 4,
  "nbformat_minor": 0,
  "metadata": {
    "colab": {
      "provenance": [],
      "authorship_tag": "ABX9TyM3zzP5iSXMfnfsGeZpTOti",
      "include_colab_link": true
    },
    "kernelspec": {
      "name": "python3",
      "display_name": "Python 3"
    },
    "language_info": {
      "name": "python"
    }
  },
  "cells": [
    {
      "cell_type": "markdown",
      "metadata": {
        "id": "view-in-github",
        "colab_type": "text"
      },
      "source": [
        "<a href=\"https://colab.research.google.com/github/mrudulamadhavan/Mrudula_Scifor/blob/main/week%2012/%20Python_Scratch%20Implementation%20of%20Neural%20Networks.ipynb\" target=\"_parent\"><img src=\"https://colab.research.google.com/assets/colab-badge.svg\" alt=\"Open In Colab\"/></a>"
      ]
    },
    {
      "cell_type": "markdown",
      "source": [
        "# **Neural Networks**\n"
      ],
      "metadata": {
        "id": "Tb4cvT16cnd8"
      }
    },
    {
      "cell_type": "markdown",
      "source": [
        "### **What is a neural network?**\n",
        "A neural network, also known as an artificial neural network (ANN) is a powerful machine learning model inspired by the structure and function of the human brain. These networks consist of interconnected nodes, or neurons, arranged in layers that collaborate to solve complex problems.\n",
        "\n",
        "Neural networks are a key technology in the field of artificial intelligence (AI), specifically falling under the umbrella of deep learning. They find widespread application across various domains, including image recognition, predictive modeling, and natural language processing (NLP).\n",
        "\n",
        " Over the years, neural networks have been instrumental in commercial applications such as handwriting recognition for check processing, speech-to-text transcription, oil exploration data analysis, weather prediction, and facial recognition."
      ],
      "metadata": {
        "id": "SdSSH4GTfkGJ"
      }
    },
    {
      "cell_type": "markdown",
      "source": [
        "## Python Scratch Implementation of Neural Networks"
      ],
      "metadata": {
        "id": "lCJ5JUPKBv0o"
      }
    },
    {
      "cell_type": "code",
      "source": [
        "from sklearn.datasets import load_breast_cancer\n",
        "from sklearn.model_selection import train_test_split\n",
        "from sklearn.preprocessing import StandardScaler\n",
        "import numpy as np\n",
        "\n",
        "class NeuralNetwork:\n",
        "    def __init__(self, input_size, hidden_size, output_size):\n",
        "        self.input_size = input_size\n",
        "        self.hidden_size = hidden_size\n",
        "        self.output_size = output_size\n",
        "\n",
        "        # Initialize weights and biases\n",
        "        self.weights_input_hidden = np.random.randn(self.input_size, self.hidden_size)\n",
        "        self.bias_input_hidden = np.random.randn(1, self.hidden_size)\n",
        "        self.weights_hidden_output = np.random.randn(self.hidden_size, self.output_size)\n",
        "        self.bias_hidden_output = np.random.randn(1, self.output_size)\n",
        "\n",
        "    def sigmoid(self, x):\n",
        "        return 1 / (1 + np.exp(-x))\n",
        "\n",
        "    def sigmoid_derivative(self, x):\n",
        "        return x * (1 - x)\n",
        "\n",
        "    def forward(self, inputs):\n",
        "        # Calculate hidden layer output\n",
        "        self.hidden_output = self.sigmoid(np.dot(inputs, self.weights_input_hidden) + self.bias_input_hidden)\n",
        "\n",
        "        # Calculate output layer output\n",
        "        self.output = self.sigmoid(np.dot(self.hidden_output, self.weights_hidden_output) + self.bias_hidden_output)\n",
        "\n",
        "        return self.output\n",
        "\n",
        "    def backward(self, inputs, targets, learning_rate):\n",
        "        # Calculate output layer error and delta\n",
        "        output_error = targets - self.output\n",
        "        output_delta = output_error * self.sigmoid_derivative(self.output)\n",
        "\n",
        "        # Calculate hidden layer error and delta\n",
        "        hidden_error = np.dot(output_delta, self.weights_hidden_output.T)\n",
        "        hidden_delta = hidden_error * self.sigmoid_derivative(self.hidden_output)\n",
        "\n",
        "        # Update weights and biases\n",
        "        self.weights_hidden_output += np.dot(self.hidden_output.T, output_delta) * learning_rate\n",
        "        self.bias_hidden_output += np.sum(output_delta, axis=0, keepdims=True) * learning_rate\n",
        "        self.weights_input_hidden += np.dot(inputs.T, hidden_delta) * learning_rate\n",
        "        self.bias_input_hidden += np.sum(hidden_delta, axis=0, keepdims=True) * learning_rate\n",
        "\n",
        "    def train(self, inputs, targets, epochs, learning_rate):\n",
        "        for epoch in range(epochs):\n",
        "            output = self.forward(inputs)\n",
        "            self.backward(inputs, targets, learning_rate)\n",
        "\n",
        "            if epoch % 100 == 0:\n",
        "                loss = np.mean(np.square(targets - output))\n",
        "                print(f\"Epoch {epoch}, Loss: {loss}\")\n",
        "\n",
        "# Load the Wisconsin Breast Cancer dataset\n",
        "cancer = load_breast_cancer()\n",
        "X = cancer.data\n",
        "y = cancer.target\n",
        "\n",
        "# Split the data into training and testing sets\n",
        "X_train, X_test, y_train, y_test = train_test_split(X, y, test_size=0.2, random_state=42)\n",
        "\n",
        "# Standardize the features\n",
        "scaler = StandardScaler()\n",
        "X_train = scaler.fit_transform(X_train)\n",
        "X_test = scaler.transform(X_test)\n",
        "\n",
        "# Initialize neural network\n",
        "neural_net = NeuralNetwork(input_size=X.shape[1], hidden_size=4, output_size=1)\n",
        "\n",
        "# Train neural network\n",
        "neural_net.train(X_train, y_train.reshape(-1, 1), epochs=1000, learning_rate=0.1)\n",
        "\n",
        "# Test neural network\n",
        "predictions = neural_net.forward(X_test)\n",
        "predictions = np.where(predictions >= 0.5, 1, 0)  # Convert probabilities to binary predictions\n",
        "accuracy = np.mean(predictions == y_test.reshape(-1, 1))\n",
        "print(\"Accuracy:\", accuracy)\n"
      ],
      "metadata": {
        "colab": {
          "base_uri": "https://localhost:8080/"
        },
        "id": "xCKH-UyN3hoD",
        "outputId": "61b300cd-e459-4c09-e432-47dbe4e3bbc4"
      },
      "execution_count": 15,
      "outputs": [
        {
          "output_type": "stream",
          "name": "stdout",
          "text": [
            "Epoch 0, Loss: 0.2903737100832841\n",
            "Epoch 100, Loss: 0.0076854865406209396\n",
            "Epoch 200, Loss: 0.005422154225504196\n",
            "Epoch 300, Loss: 0.004534205242306645\n",
            "Epoch 400, Loss: 0.003252173231717287\n",
            "Epoch 500, Loss: 0.0028640015479116437\n",
            "Epoch 600, Loss: 0.0026772793318015227\n",
            "Epoch 700, Loss: 0.0025666624270852703\n",
            "Epoch 800, Loss: 0.002494238287652518\n",
            "Epoch 900, Loss: 0.0024436391351504456\n",
            "Accuracy: 0.9736842105263158\n"
          ]
        }
      ]
    }
  ]
}