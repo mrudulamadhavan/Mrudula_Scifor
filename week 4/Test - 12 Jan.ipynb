{
  "nbformat": 4,
  "nbformat_minor": 0,
  "metadata": {
    "colab": {
      "provenance": []
    },
    "kernelspec": {
      "name": "python3",
      "display_name": "Python 3"
    },
    "language_info": {
      "name": "python"
    }
  },
  "cells": [
    {
      "cell_type": "markdown",
      "source": [
        "### **Q43. Write a Python program to read a text file and print out the most frequent word(s) in the file**"
      ],
      "metadata": {
        "id": "2N3aESHqMqn-"
      }
    },
    {
      "cell_type": "code",
      "source": [
        "def most_frequent_words(file_path):\n",
        "    inp_file = open(file_path,\"r\")\n",
        "    frequent_word = \"\"\n",
        "    frequency = 0\n",
        "    words_list = []\n",
        "\n",
        "    for line in inp_file:\n",
        "\n",
        "        words = line.lower().replace(',','').replace('.','').split(\" \");\n",
        "\n",
        "        # Adding them to list words\n",
        "        for w in words:\n",
        "            words_list.append(w);\n",
        "\n",
        "    # To finding  word with most frequency\n",
        "    for i in range(0, len(words_list)):\n",
        "\n",
        "        # Declaring count\n",
        "        count = 1;\n",
        "\n",
        "        # Count each word in the file\n",
        "        for j in range(i+1, len(words)):\n",
        "            if(words[i] == words[j]):\n",
        "                count = count + 1;\n",
        "\n",
        "\n",
        "        if(count > frequency):\n",
        "            frequency = count;\n",
        "            frequent_word = words[i];\n",
        "\n",
        "    print(\"Most repeated word: \" + frequent_word)\n",
        "    print(\"Frequency: \" + str(frequency))\n",
        "    inp_file.close()"
      ],
      "metadata": {
        "id": "dQim7p-_Swf0"
      },
      "execution_count": 1,
      "outputs": []
    },
    {
      "cell_type": "code",
      "source": [
        "most_frequent_words('Apple.txt')"
      ],
      "metadata": {
        "colab": {
          "base_uri": "https://localhost:8080/"
        },
        "id": "nEVLafK5TW8c",
        "outputId": "56bbcbde-5c3e-43fd-dfd9-47178a224994"
      },
      "execution_count": 2,
      "outputs": [
        {
          "output_type": "stream",
          "name": "stdout",
          "text": [
            "Most repeated word: to\n",
            "Frequency: 4\n"
          ]
        }
      ]
    }
  ]
}