{
  "cells": [
    {
      "cell_type": "markdown",
      "metadata": {
        "id": "irV6kF6yUb6x"
      },
      "source": [
        "## Abstraction in Python\n",
        "Abstraction is one of the key principles of Object-Oriented Programming (OOP). It involves simplifying complex systems by modelling classes based on the essential properties and behaviours, while ignoring or hiding unnecessary details. Abstraction allows you to focus on what an object does rather than how it achieves its functionality. In Python, abstraction is often achieved through abstract classes and abstract methods.\n",
        "## Abstract Classes and Abstract Methods:\n",
        "* An abstract class in object-oriented programming is a class that cannot be instantiated on its own and is meant to be subclassed by other classes. Abstract classes serve as a blueprint for other classes, providing a common interface and a set of methods that must be implemented by the concrete subclasses. Abstract classes may also contain both abstract methods and concrete methods.\n",
        "* Abstract methods, on the other hand, are methods declared in an abstract class that do not have an implementation in the abstract class itself. Instead, the responsibility of implementing these methods is left to the concrete subclasses. Abstract methods are defined using the @abstractmethod decorator in Python.\n"
      ]
    },
    {
      "cell_type": "code",
      "execution_count": 2,
      "metadata": {
        "colab": {
          "base_uri": "https://localhost:8080/"
        },
        "id": "lX3jAw2PUtTq",
        "outputId": "b349c034-6b9e-4030-c8f7-5e65561d6aa7"
      },
      "outputs": [
        {
          "name": "stdout",
          "output_type": "stream",
          "text": [
            "For Circle,\n",
            " > Area: 78.5\n",
            " > Perimeter: 31.4\n",
            "For Square\n",
            " > Area: 16\n",
            " > Perimeter: 16\n"
          ]
        }
      ],
      "source": [
        "# Code Implementation\n",
        "from abc import ABC, abstractmethod\n",
        "\n",
        "# Abstract class with an abstract method\n",
        "class Shape(ABC):\n",
        "    @abstractmethod\n",
        "    def area(self):\n",
        "        pass\n",
        "\n",
        "    def perimeter(self):\n",
        "        pass\n",
        "\n",
        "\n",
        "# Concrete subclass implementing the abstract method\n",
        "class Circle(Shape):\n",
        "    def __init__(self, radius):\n",
        "        self.radius = radius\n",
        "\n",
        "    def area(self):\n",
        "        return 3.14 * self.radius ** 2\n",
        "\n",
        "    def perimeter(self):\n",
        "        return 2 * 3.14 * self.radius\n",
        "\n",
        "# Concrete subclass implementing the abstract method\n",
        "class Square(Shape):\n",
        "    def __init__(self, side):\n",
        "        self.side = side\n",
        "\n",
        "    def area(self):\n",
        "        return self.side ** 2\n",
        "\n",
        "    def perimeter(self):\n",
        "        return 4 * self.side\n",
        "\n",
        "# Creating objects of concrete subclasses\n",
        "circle = Circle(5)\n",
        "square = Square(4)\n",
        "\n",
        "# Calling the abstract method on concrete objects\n",
        "print(\"For Circle,\")\n",
        "print(f\" > Area: {circle.area()}\")\n",
        "print(f\" > Perimeter: {round(circle.perimeter(),3)}\")\n",
        "\n",
        "print(\"For Square\")\n",
        "print(f\" > Area: {square.area()}\")\n",
        "print(f\" > Perimeter: {square.perimeter()}\")\n",
        "\n",
        "\n"
      ]
    },
    {
      "cell_type": "markdown",
      "metadata": {
        "id": "RrThsv8NYG9w"
      },
      "source": [
        "* Shape is an abstract class with one abstract methods area and perimeter\n",
        "* Circle and Square are concrete subclasses of Shape that provide implementations for the abstract method area and perimeter.\n",
        "* Objects of Circle and Square can be created and used polymorphically through the common interface provided by the abstract class Shape."
      ]
    }
  ],
  "metadata": {
    "colab": {
      "provenance": []
    },
    "kernelspec": {
      "display_name": "Python 3",
      "name": "python3"
    },
    "language_info": {
      "codemirror_mode": {
        "name": "ipython",
        "version": 3
      },
      "file_extension": ".py",
      "mimetype": "text/x-python",
      "name": "python",
      "nbconvert_exporter": "python",
      "pygments_lexer": "ipython3",
      "version": "3.11.4"
    }
  },
  "nbformat": 4,
  "nbformat_minor": 0
}
