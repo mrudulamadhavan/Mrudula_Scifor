{
  "cells": [
    {
      "cell_type": "markdown",
      "metadata": {
        "id": "view-in-github",
        "colab_type": "text"
      },
      "source": [
        "<a href=\"https://colab.research.google.com/github/mrudulamadhavan/Mrudula_Scifor/blob/main/week%207%20/%20MLR%20from%20scratch/MLR%20Assignment.ipynb\" target=\"_parent\"><img src=\"https://colab.research.google.com/assets/colab-badge.svg\" alt=\"Open In Colab\"/></a>"
      ]
    },
    {
      "cell_type": "markdown",
      "metadata": {
        "id": "9x9ROpTsnhSB"
      },
      "source": [
        "## Multiple Linear Regression from Scratch"
      ]
    },
    {
      "cell_type": "code",
      "execution_count": 1,
      "metadata": {
        "id": "7SsdDNXDnhSD"
      },
      "outputs": [],
      "source": [
        "# Importing the necessary libraries\n",
        "import numpy as np\n",
        "import pandas as pd\n",
        "import matplotlib.pyplot as plt\n",
        "%matplotlib inline\n",
        "from sklearn.preprocessing import StandardScaler\n",
        "from sklearn.model_selection import train_test_split"
      ]
    },
    {
      "cell_type": "markdown",
      "metadata": {
        "id": "zJM6Rfc1nhSE"
      },
      "source": [
        "### Loading the dataset"
      ]
    },
    {
      "cell_type": "code",
      "execution_count": 2,
      "metadata": {
        "colab": {
          "base_uri": "https://localhost:8080/",
          "height": 206
        },
        "id": "bX4KPVMLnhSE",
        "outputId": "e3cc58d8-330e-4871-96a8-3aee29e81520"
      },
      "outputs": [
        {
          "output_type": "execute_result",
          "data": {
            "text/plain": [
              "       T      V       AP     RH      EP\n",
              "0   8.58  38.38  1021.03  84.37  482.26\n",
              "1  21.79  58.20  1017.21  66.74  446.94\n",
              "2  16.64  48.92  1011.55  78.76  452.56\n",
              "3  31.38  71.32  1009.17  60.42  433.44\n",
              "4   9.20  40.03  1017.05  92.46  480.38"
            ],
            "text/html": [
              "\n",
              "  <div id=\"df-6ab8c835-d0c6-4f8c-aac5-e84ecd4356a7\" class=\"colab-df-container\">\n",
              "    <div>\n",
              "<style scoped>\n",
              "    .dataframe tbody tr th:only-of-type {\n",
              "        vertical-align: middle;\n",
              "    }\n",
              "\n",
              "    .dataframe tbody tr th {\n",
              "        vertical-align: top;\n",
              "    }\n",
              "\n",
              "    .dataframe thead th {\n",
              "        text-align: right;\n",
              "    }\n",
              "</style>\n",
              "<table border=\"1\" class=\"dataframe\">\n",
              "  <thead>\n",
              "    <tr style=\"text-align: right;\">\n",
              "      <th></th>\n",
              "      <th>T</th>\n",
              "      <th>V</th>\n",
              "      <th>AP</th>\n",
              "      <th>RH</th>\n",
              "      <th>EP</th>\n",
              "    </tr>\n",
              "  </thead>\n",
              "  <tbody>\n",
              "    <tr>\n",
              "      <th>0</th>\n",
              "      <td>8.58</td>\n",
              "      <td>38.38</td>\n",
              "      <td>1021.03</td>\n",
              "      <td>84.37</td>\n",
              "      <td>482.26</td>\n",
              "    </tr>\n",
              "    <tr>\n",
              "      <th>1</th>\n",
              "      <td>21.79</td>\n",
              "      <td>58.20</td>\n",
              "      <td>1017.21</td>\n",
              "      <td>66.74</td>\n",
              "      <td>446.94</td>\n",
              "    </tr>\n",
              "    <tr>\n",
              "      <th>2</th>\n",
              "      <td>16.64</td>\n",
              "      <td>48.92</td>\n",
              "      <td>1011.55</td>\n",
              "      <td>78.76</td>\n",
              "      <td>452.56</td>\n",
              "    </tr>\n",
              "    <tr>\n",
              "      <th>3</th>\n",
              "      <td>31.38</td>\n",
              "      <td>71.32</td>\n",
              "      <td>1009.17</td>\n",
              "      <td>60.42</td>\n",
              "      <td>433.44</td>\n",
              "    </tr>\n",
              "    <tr>\n",
              "      <th>4</th>\n",
              "      <td>9.20</td>\n",
              "      <td>40.03</td>\n",
              "      <td>1017.05</td>\n",
              "      <td>92.46</td>\n",
              "      <td>480.38</td>\n",
              "    </tr>\n",
              "  </tbody>\n",
              "</table>\n",
              "</div>\n",
              "    <div class=\"colab-df-buttons\">\n",
              "\n",
              "  <div class=\"colab-df-container\">\n",
              "    <button class=\"colab-df-convert\" onclick=\"convertToInteractive('df-6ab8c835-d0c6-4f8c-aac5-e84ecd4356a7')\"\n",
              "            title=\"Convert this dataframe to an interactive table.\"\n",
              "            style=\"display:none;\">\n",
              "\n",
              "  <svg xmlns=\"http://www.w3.org/2000/svg\" height=\"24px\" viewBox=\"0 -960 960 960\">\n",
              "    <path d=\"M120-120v-720h720v720H120Zm60-500h600v-160H180v160Zm220 220h160v-160H400v160Zm0 220h160v-160H400v160ZM180-400h160v-160H180v160Zm440 0h160v-160H620v160ZM180-180h160v-160H180v160Zm440 0h160v-160H620v160Z\"/>\n",
              "  </svg>\n",
              "    </button>\n",
              "\n",
              "  <style>\n",
              "    .colab-df-container {\n",
              "      display:flex;\n",
              "      gap: 12px;\n",
              "    }\n",
              "\n",
              "    .colab-df-convert {\n",
              "      background-color: #E8F0FE;\n",
              "      border: none;\n",
              "      border-radius: 50%;\n",
              "      cursor: pointer;\n",
              "      display: none;\n",
              "      fill: #1967D2;\n",
              "      height: 32px;\n",
              "      padding: 0 0 0 0;\n",
              "      width: 32px;\n",
              "    }\n",
              "\n",
              "    .colab-df-convert:hover {\n",
              "      background-color: #E2EBFA;\n",
              "      box-shadow: 0px 1px 2px rgba(60, 64, 67, 0.3), 0px 1px 3px 1px rgba(60, 64, 67, 0.15);\n",
              "      fill: #174EA6;\n",
              "    }\n",
              "\n",
              "    .colab-df-buttons div {\n",
              "      margin-bottom: 4px;\n",
              "    }\n",
              "\n",
              "    [theme=dark] .colab-df-convert {\n",
              "      background-color: #3B4455;\n",
              "      fill: #D2E3FC;\n",
              "    }\n",
              "\n",
              "    [theme=dark] .colab-df-convert:hover {\n",
              "      background-color: #434B5C;\n",
              "      box-shadow: 0px 1px 3px 1px rgba(0, 0, 0, 0.15);\n",
              "      filter: drop-shadow(0px 1px 2px rgba(0, 0, 0, 0.3));\n",
              "      fill: #FFFFFF;\n",
              "    }\n",
              "  </style>\n",
              "\n",
              "    <script>\n",
              "      const buttonEl =\n",
              "        document.querySelector('#df-6ab8c835-d0c6-4f8c-aac5-e84ecd4356a7 button.colab-df-convert');\n",
              "      buttonEl.style.display =\n",
              "        google.colab.kernel.accessAllowed ? 'block' : 'none';\n",
              "\n",
              "      async function convertToInteractive(key) {\n",
              "        const element = document.querySelector('#df-6ab8c835-d0c6-4f8c-aac5-e84ecd4356a7');\n",
              "        const dataTable =\n",
              "          await google.colab.kernel.invokeFunction('convertToInteractive',\n",
              "                                                    [key], {});\n",
              "        if (!dataTable) return;\n",
              "\n",
              "        const docLinkHtml = 'Like what you see? Visit the ' +\n",
              "          '<a target=\"_blank\" href=https://colab.research.google.com/notebooks/data_table.ipynb>data table notebook</a>'\n",
              "          + ' to learn more about interactive tables.';\n",
              "        element.innerHTML = '';\n",
              "        dataTable['output_type'] = 'display_data';\n",
              "        await google.colab.output.renderOutput(dataTable, element);\n",
              "        const docLink = document.createElement('div');\n",
              "        docLink.innerHTML = docLinkHtml;\n",
              "        element.appendChild(docLink);\n",
              "      }\n",
              "    </script>\n",
              "  </div>\n",
              "\n",
              "\n",
              "<div id=\"df-7ccc8fc2-98e6-4813-a8ba-e573260688c0\">\n",
              "  <button class=\"colab-df-quickchart\" onclick=\"quickchart('df-7ccc8fc2-98e6-4813-a8ba-e573260688c0')\"\n",
              "            title=\"Suggest charts\"\n",
              "            style=\"display:none;\">\n",
              "\n",
              "<svg xmlns=\"http://www.w3.org/2000/svg\" height=\"24px\"viewBox=\"0 0 24 24\"\n",
              "     width=\"24px\">\n",
              "    <g>\n",
              "        <path d=\"M19 3H5c-1.1 0-2 .9-2 2v14c0 1.1.9 2 2 2h14c1.1 0 2-.9 2-2V5c0-1.1-.9-2-2-2zM9 17H7v-7h2v7zm4 0h-2V7h2v10zm4 0h-2v-4h2v4z\"/>\n",
              "    </g>\n",
              "</svg>\n",
              "  </button>\n",
              "\n",
              "<style>\n",
              "  .colab-df-quickchart {\n",
              "      --bg-color: #E8F0FE;\n",
              "      --fill-color: #1967D2;\n",
              "      --hover-bg-color: #E2EBFA;\n",
              "      --hover-fill-color: #174EA6;\n",
              "      --disabled-fill-color: #AAA;\n",
              "      --disabled-bg-color: #DDD;\n",
              "  }\n",
              "\n",
              "  [theme=dark] .colab-df-quickchart {\n",
              "      --bg-color: #3B4455;\n",
              "      --fill-color: #D2E3FC;\n",
              "      --hover-bg-color: #434B5C;\n",
              "      --hover-fill-color: #FFFFFF;\n",
              "      --disabled-bg-color: #3B4455;\n",
              "      --disabled-fill-color: #666;\n",
              "  }\n",
              "\n",
              "  .colab-df-quickchart {\n",
              "    background-color: var(--bg-color);\n",
              "    border: none;\n",
              "    border-radius: 50%;\n",
              "    cursor: pointer;\n",
              "    display: none;\n",
              "    fill: var(--fill-color);\n",
              "    height: 32px;\n",
              "    padding: 0;\n",
              "    width: 32px;\n",
              "  }\n",
              "\n",
              "  .colab-df-quickchart:hover {\n",
              "    background-color: var(--hover-bg-color);\n",
              "    box-shadow: 0 1px 2px rgba(60, 64, 67, 0.3), 0 1px 3px 1px rgba(60, 64, 67, 0.15);\n",
              "    fill: var(--button-hover-fill-color);\n",
              "  }\n",
              "\n",
              "  .colab-df-quickchart-complete:disabled,\n",
              "  .colab-df-quickchart-complete:disabled:hover {\n",
              "    background-color: var(--disabled-bg-color);\n",
              "    fill: var(--disabled-fill-color);\n",
              "    box-shadow: none;\n",
              "  }\n",
              "\n",
              "  .colab-df-spinner {\n",
              "    border: 2px solid var(--fill-color);\n",
              "    border-color: transparent;\n",
              "    border-bottom-color: var(--fill-color);\n",
              "    animation:\n",
              "      spin 1s steps(1) infinite;\n",
              "  }\n",
              "\n",
              "  @keyframes spin {\n",
              "    0% {\n",
              "      border-color: transparent;\n",
              "      border-bottom-color: var(--fill-color);\n",
              "      border-left-color: var(--fill-color);\n",
              "    }\n",
              "    20% {\n",
              "      border-color: transparent;\n",
              "      border-left-color: var(--fill-color);\n",
              "      border-top-color: var(--fill-color);\n",
              "    }\n",
              "    30% {\n",
              "      border-color: transparent;\n",
              "      border-left-color: var(--fill-color);\n",
              "      border-top-color: var(--fill-color);\n",
              "      border-right-color: var(--fill-color);\n",
              "    }\n",
              "    40% {\n",
              "      border-color: transparent;\n",
              "      border-right-color: var(--fill-color);\n",
              "      border-top-color: var(--fill-color);\n",
              "    }\n",
              "    60% {\n",
              "      border-color: transparent;\n",
              "      border-right-color: var(--fill-color);\n",
              "    }\n",
              "    80% {\n",
              "      border-color: transparent;\n",
              "      border-right-color: var(--fill-color);\n",
              "      border-bottom-color: var(--fill-color);\n",
              "    }\n",
              "    90% {\n",
              "      border-color: transparent;\n",
              "      border-bottom-color: var(--fill-color);\n",
              "    }\n",
              "  }\n",
              "</style>\n",
              "\n",
              "  <script>\n",
              "    async function quickchart(key) {\n",
              "      const quickchartButtonEl =\n",
              "        document.querySelector('#' + key + ' button');\n",
              "      quickchartButtonEl.disabled = true;  // To prevent multiple clicks.\n",
              "      quickchartButtonEl.classList.add('colab-df-spinner');\n",
              "      try {\n",
              "        const charts = await google.colab.kernel.invokeFunction(\n",
              "            'suggestCharts', [key], {});\n",
              "      } catch (error) {\n",
              "        console.error('Error during call to suggestCharts:', error);\n",
              "      }\n",
              "      quickchartButtonEl.classList.remove('colab-df-spinner');\n",
              "      quickchartButtonEl.classList.add('colab-df-quickchart-complete');\n",
              "    }\n",
              "    (() => {\n",
              "      let quickchartButtonEl =\n",
              "        document.querySelector('#df-7ccc8fc2-98e6-4813-a8ba-e573260688c0 button');\n",
              "      quickchartButtonEl.style.display =\n",
              "        google.colab.kernel.accessAllowed ? 'block' : 'none';\n",
              "    })();\n",
              "  </script>\n",
              "</div>\n",
              "\n",
              "    </div>\n",
              "  </div>\n"
            ]
          },
          "metadata": {},
          "execution_count": 2
        }
      ],
      "source": [
        "# Load the dataframe\n",
        "df = pd.read_csv('energy.txt')\n",
        "df.head()"
      ]
    },
    {
      "cell_type": "code",
      "execution_count": 3,
      "metadata": {
        "colab": {
          "base_uri": "https://localhost:8080/"
        },
        "id": "y7w0QO3snhSF",
        "outputId": "b8681ca0-04d0-4c48-9cdf-dd57b9a18b04"
      },
      "outputs": [
        {
          "output_type": "stream",
          "name": "stdout",
          "text": [
            "<class 'pandas.core.frame.DataFrame'>\n",
            "RangeIndex: 7176 entries, 0 to 7175\n",
            "Data columns (total 5 columns):\n",
            " #   Column  Non-Null Count  Dtype  \n",
            "---  ------  --------------  -----  \n",
            " 0   T       7176 non-null   float64\n",
            " 1   V       7176 non-null   float64\n",
            " 2   AP      7176 non-null   float64\n",
            " 3   RH      7176 non-null   float64\n",
            " 4   EP      7176 non-null   float64\n",
            "dtypes: float64(5)\n",
            "memory usage: 280.4 KB\n"
          ]
        }
      ],
      "source": [
        "df.info()"
      ]
    },
    {
      "cell_type": "markdown",
      "metadata": {
        "id": "ICkZqpmMnhSF"
      },
      "source": [
        "### Visualizing the dataset"
      ]
    },
    {
      "cell_type": "code",
      "execution_count": 4,
      "metadata": {
        "colab": {
          "base_uri": "https://localhost:8080/",
          "height": 807
        },
        "id": "ljZ276DRnhSF",
        "outputId": "8506f3c8-0096-44cc-d1b1-0cd6327f8696"
      },
      "outputs": [
        {
          "output_type": "display_data",
          "data": {
            "text/plain": [
              "<Figure size 800x800 with 4 Axes>"
            ],
            "image/png": "[encoded data removed]"
          },
          "metadata": {}
        }
      ],
      "source": [
        "# Here out target variable is EP. So we will plot graphs corresponding to each feature\n",
        "# plt.figure(figsize=(20, 20))\n",
        "fig, ax = plt.subplots(nrows=2, ncols=2, figsize=(8, 8))\n",
        "fig.figsize = (10, 10)\n",
        "ax[0, 0].scatter(df['T'], df['EP'])\n",
        "ax[0, 1].scatter(df['V'], df['EP'])\n",
        "ax[1, 0].scatter(df['AP'], df['EP'])\n",
        "ax[1, 1].scatter(df['RH'], df['EP'])\n",
        "\n",
        "plt.tight_layout()"
      ]
    },
    {
      "cell_type": "markdown",
      "metadata": {
        "id": "JHCyz6kRnhSF"
      },
      "source": [
        "### Preprocessing the dataset"
      ]
    },
    {
      "cell_type": "code",
      "execution_count": 5,
      "metadata": {
        "id": "uL00nRdJnhSG"
      },
      "outputs": [],
      "source": [
        "# Seperate features and target variable\n",
        "X = df.iloc[:, :4]\n",
        "y = df.iloc[:, -1]\n",
        "\n",
        "# Scaling the dataset to fit the model\n",
        "from sklearn.preprocessing import StandardScaler\n",
        "sc = StandardScaler()\n",
        "X = sc.fit_transform(X)\n",
        "\n",
        "# Dividing the data into training and testing data\n",
        "X_train, X_test, y_train, y_test = train_test_split(X, y, test_size = 0.25)"
      ]
    },
    {
      "cell_type": "code",
      "execution_count": 6,
      "metadata": {
        "colab": {
          "base_uri": "https://localhost:8080/"
        },
        "id": "FGzMyJ0inhSG",
        "outputId": "4506d3f3-684a-44fe-8d14-94f17310939b"
      },
      "outputs": [
        {
          "output_type": "stream",
          "name": "stdout",
          "text": [
            "(5382, 4) (1794, 4) (5382,) (1794,)\n"
          ]
        }
      ],
      "source": [
        "# Printing the size of datasets\n",
        "print(X_train.shape, X_test.shape, y_train.shape, y_test.shape)"
      ]
    },
    {
      "cell_type": "markdown",
      "metadata": {
        "id": "ajuYhgJ6nhSG"
      },
      "source": [
        "## Linear Regression from Scratch"
      ]
    },
    {
      "cell_type": "code",
      "execution_count": 7,
      "metadata": {
        "id": "qkr7A53TnhSG"
      },
      "outputs": [],
      "source": [
        "def cost_function(X, y, w, b):\n",
        "    \"\"\"\n",
        "    Parameters:\n",
        "    X: features\n",
        "    y: target values\n",
        "    w: weights\n",
        "    b: bias\n",
        "\n",
        "    Returns:\n",
        "    cost: cost with current weights and bias\n",
        "    \"\"\"\n",
        "    cost = np.sum((((X.dot(w) + b) - y) ** 2) / (2*len(y)))\n",
        "    return cost"
      ]
    },
    {
      "cell_type": "code",
      "execution_count": 8,
      "metadata": {
        "id": "heN2e4-InhSG"
      },
      "outputs": [],
      "source": [
        "def gradient_descent_function(X, y, w, b, alpha=0.01, epochs=1000):\n",
        "    \"\"\"\n",
        "    Parameters:\n",
        "    X: features\n",
        "    y: target values\n",
        "    w: initial weights\n",
        "    b: initial bias\n",
        "    alpha: learning rate\n",
        "    epochs: number of iterations\n",
        "\n",
        "    Returns:\n",
        "    costs: cost per epoch\n",
        "    w: finalised weights\n",
        "    b: finalised bias\n",
        "    \"\"\"\n",
        "    m = len(y)\n",
        "    costs = [0] * epochs\n",
        "\n",
        "    for epoch in range(epochs):\n",
        "        # Calculate the value -- Forward Propagation\n",
        "        z = X.dot(w) + b\n",
        "\n",
        "        # Calculate the losses\n",
        "        loss = z - y\n",
        "\n",
        "        # Calculate gradient descent\n",
        "        weight_gradient = X.T.dot(loss) / m\n",
        "        bias_gradient = np.sum(loss) / m\n",
        "\n",
        "        # Update weights and bias\n",
        "        w = w - alpha*weight_gradient\n",
        "        b = b - alpha*bias_gradient\n",
        "\n",
        "        # Store current lost\n",
        "        cost = cost_function(X, y, w, b)\n",
        "        costs[epoch] = cost\n",
        "\n",
        "    return w, b, costs"
      ]
    },
    {
      "cell_type": "code",
      "execution_count": 9,
      "metadata": {
        "id": "R6RnObHxnhSH"
      },
      "outputs": [],
      "source": [
        "# Initial random weights\n",
        "w = np.random.randn(X_train.shape[1])\n",
        "# Initial bias\n",
        "b = 0\n",
        "weights, bias, costs = gradient_descent_function(X_train, y_train, w, b, epochs=2500);"
      ]
    },
    {
      "cell_type": "code",
      "execution_count": 10,
      "metadata": {
        "colab": {
          "base_uri": "https://localhost:8080/"
        },
        "id": "7X4x6b76nhSH",
        "outputId": "c3ce48bc-b260-4089-e88b-da15ee717626"
      },
      "outputs": [
        {
          "output_type": "stream",
          "name": "stdout",
          "text": [
            "[-14.25064087  -3.36906605   0.39003797  -2.15314865]\n",
            "454.4162847781383\n"
          ]
        }
      ],
      "source": [
        "print(weights)\n",
        "print(bias)"
      ]
    },
    {
      "cell_type": "code",
      "execution_count": 11,
      "metadata": {
        "colab": {
          "base_uri": "https://localhost:8080/",
          "height": 430
        },
        "id": "cv95dPl4nhSH",
        "outputId": "22046c9d-44f6-4466-f242-96bec14e1c34"
      },
      "outputs": [
        {
          "output_type": "display_data",
          "data": {
            "text/plain": [
              "<Figure size 640x480 with 1 Axes>"
            ],
            "image/png": "[encoded data removed]"
          },
          "metadata": {}
        }
      ],
      "source": [
        "import matplotlib.pyplot as plt\n",
        "# Plotting the cost function\n",
        "plt.plot(costs)\n",
        "plt.show()"
      ]
    },
    {
      "cell_type": "markdown",
      "metadata": {
        "id": "JmiICEYpnhSH"
      },
      "source": [
        "### Calculating the performace of our model"
      ]
    },
    {
      "cell_type": "code",
      "execution_count": 12,
      "metadata": {
        "id": "4plVDOrMnhSI"
      },
      "outputs": [],
      "source": [
        "def predict(X, w, b):\n",
        "    return X.dot(w) + b"
      ]
    },
    {
      "cell_type": "code",
      "execution_count": 13,
      "metadata": {
        "id": "FyzmlZsdnhSI"
      },
      "outputs": [],
      "source": [
        "def r2score(y_pred, y):\n",
        "    \"\"\"\n",
        "    Parameters:\n",
        "    y_pred: predicted values\n",
        "    y: actual values\n",
        "\n",
        "    Returns:\n",
        "    r2: r2 score\n",
        "    \"\"\"\n",
        "    rss = np.sum((y_pred - y) ** 2)\n",
        "    tss = np.sum((y-y.mean()) ** 2)\n",
        "\n",
        "    r2 = 1 - (rss / tss)\n",
        "    return r2"
      ]
    },
    {
      "cell_type": "code",
      "execution_count": 14,
      "metadata": {
        "id": "393Vdmp6nhSI"
      },
      "outputs": [],
      "source": [
        "# Predicted values with our model\n",
        "y_pred = predict(X_test, weights, bias)"
      ]
    },
    {
      "cell_type": "code",
      "execution_count": 15,
      "metadata": {
        "colab": {
          "base_uri": "https://localhost:8080/"
        },
        "id": "V_LmLuO_nhSI",
        "outputId": "a1411b0a-1e5e-4cb5-b36a-ed4e47da9598"
      },
      "outputs": [
        {
          "output_type": "stream",
          "name": "stdout",
          "text": [
            "R2 Score : 0.9321\n",
            "Mean Squared Error : 20.4641\n",
            "Root Mean Squared Error : 4.5237\n"
          ]
        }
      ],
      "source": [
        "from sklearn.metrics import r2_score,mean_squared_error\n",
        "score=r2_score(y_test,y_pred)\n",
        "print(\"R2 Score :\",score.round(4))\n",
        "mse = mean_squared_error(y_test,y_pred)\n",
        "print(\"Mean Squared Error :\",mse.round(4))\n",
        "rmse = np.sqrt(mean_squared_error(y_test,y_pred))\n",
        "print(\"Root Mean Squared Error :\",rmse.round(4))"
      ]
    },
    {
      "cell_type": "markdown",
      "metadata": {
        "id": "SldQPUI5nhSJ"
      },
      "source": [
        "The r2 value of our model is 0.93 which is impressive."
      ]
    }
  ],
  "metadata": {
    "kernelspec": {
      "display_name": "Python 3",
      "language": "python",
      "name": "python3"
    },
    "language_info": {
      "codemirror_mode": {
        "name": "ipython",
        "version": 3
      },
      "file_extension": ".py",
      "mimetype": "text/x-python",
      "name": "python",
      "nbconvert_exporter": "python",
      "pygments_lexer": "ipython3",
      "version": "3.8.3"
    },
    "colab": {
      "provenance": [],
      "include_colab_link": true
    }
  },
  "nbformat": 4,
  "nbformat_minor": 0
}